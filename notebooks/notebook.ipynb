{
 "cells": [
  {
   "cell_type": "code",
   "execution_count": 16,
   "id": "5ff2695f",
   "metadata": {},
   "outputs": [
    {
     "name": "stdout",
     "output_type": "stream",
     "text": [
      "Title: Licencias de conducir - ChileAtiende\n",
      "URL: https://www.chileatiende.gob.cl/fichas/20592-licencias-de-conducir\n",
      "Content: 1. [Inicio](https://www.chileatiende.gob.cl/)\n",
      "2. [ChileAtiende](https://www.chileatiende.gob.cl/instituciones/ZZ001)\n",
      "\n",
      "# Licencias de conducir\n",
      "\n",
      "Última ...\n"
     ]
    }
   ],
   "source": [
    "from firecrawl import FirecrawlApp, ScrapeOptions\n",
    "from dotenv import load_dotenv\n",
    "import os\n",
    "\n",
    "load_dotenv()\n",
    "\n",
    "# Initialize the client with your API key\n",
    "app = FirecrawlApp(api_key=os.getenv(\"FIRECRAWL_API_KEY\"))\n",
    "\n",
    "FIRECRAWL_INSTRUCTION = \"ChileAtiende: \" \n",
    "FIRECRAWL_SEARCH = \"Quiero saber como renovar mi licencia de conducir\"\n",
    "\n",
    "# Search and scrape content\n",
    "search_result = app.search(\n",
    "    query = FIRECRAWL_INSTRUCTION + FIRECRAWL_SEARCH,\n",
    "    limit=2,\n",
    "    country=\"cl\",\n",
    "    lang=\"es\",\n",
    "    scrape_options=ScrapeOptions(formats=[\"markdown\", \"links\"])\n",
    ")\n",
    "\n",
    "# Process the results\n",
    "for result in search_result.data:\n",
    "    if result[\"url\"].startswith(\"https://www.chileatiende.gob.cl/fichas\") and not result[\"url\"].endswith(\"pdf\"):\n",
    "        # Print the result\n",
    "        print(f\"Title: {result['title']}\")\n",
    "        print(f\"URL: {result['url']}\")\n",
    "        print(f\"Content: {result['markdown'][:150]}...\")"
   ]
  },
  {
   "cell_type": "code",
   "execution_count": null,
   "id": "5eea3c37",
   "metadata": {},
   "outputs": [
    {
     "data": {
      "text/plain": [
       "{'title': 'Licencias de conducir - ChileAtiende',\n",
       " 'description': 'La licencia de conducir es un documento que permite la conducción de vehículos. En Chile, existen distintas clases de licencia, las que se obtienen en la ...',\n",
       " 'url': 'https://www.chileatiende.gob.cl/fichas/20592-licencias-de-conducir',\n",
       " 'markdown': '1. [Inicio](https://www.chileatiende.gob.cl/)\\n2. [ChileAtiende](https://www.chileatiende.gob.cl/instituciones/ZZ001)\\n\\n# Licencias de conducir\\n\\nÚltima actualización: 20 de junio, 2023\\n\\nA+\\n\\nA-\\n\\n\\n## Descripción\\n\\nLa **licencia de conducir es un documento que permite la conducción de vehículos**. En Chile, existen distintas clases de licencia, las que se obtienen en la Dirección de Tránsito Municipal, rindiendo un examen teórico y práctico.\\n\\nEl Ministerio de Transporte y Telecomunicaciones, a través de Comisión Nacional de Seguridad de Tránsito (Conaset), reformó el sistema de otorgamiento de licencias de conducir, implementado un nuevo **examen práctico** para [clase B](https://www.chileatiende.gob.cl/fichas/24065-licencia-de-conducir-no-profesional-clase-b) y para la obtención de la [licencia clase C](https://mejoresconductores.conaset.cl/#/LicenciaClaseC) y [clase CR](https://mejoresconductores.conaset.cl/#/LicenciaClaseCR).\\n\\nRevise el [material de estudio, requisitos, exámenes, entre otros](http://mejoresconductores.conaset.cl/).\\n\\n**Extensión de las licencias de conducir**:\\n\\n![](https://www.chileatiende.gob.cl/storage/images/kcXpH5hDglSsFdoApvczaQYyqPuzQiXeduFtCnGF.png)\\n\\nQuienes se encuentren en el [Registro de Pasajeros Infractores (RPI)](https://www.chileatiende.gob.cl/fichas/62468) **no podrán obtener una licencia de conducir**.\\n\\n¿Cómo puedo obtener la licencia de conductor en nuestro país? - #TransitaconSeguridad - CONASET - YouTube\\n\\nConaset, Comisión Nacional de Seguridad de Tránsito\\n\\n11.8K subscribers\\n\\n[¿Cómo puedo obtener la licencia de conductor en nuestro país? - #TransitaconSeguridad - CONASET](https://www.youtube.com/watch?v=CplwgrIjD3o)\\n\\nConaset, Comisión Nacional de Seguridad de Tránsito\\n\\nSearch\\n\\nInfo\\n\\nShopping\\n\\nTap to unmute\\n\\nIf playback doesn\\'t begin shortly, try restarting your device.\\n\\nFull screen is unavailable. [Learn More](https://support.google.com/youtube/answer/6276924)\\n\\nYou\\'re signed out\\n\\nVideos you watch may be added to the TV\\'s watch history and influence TV recommendations. To avoid this, cancel and sign in to YouTube on your computer.\\n\\nCancelConfirm\\n\\nShare\\n\\nInclude playlist\\n\\nAn error occurred while retrieving sharing information. Please try again later.\\n\\nWatch later\\n\\nShare\\n\\nCopy link\\n\\nWatch on\\n\\n0:00\\n\\n/ •Live\\n\\n•\\n\\n[Watch on YouTube](https://www.youtube.com/watch?v=CplwgrIjD3o \"Watch on YouTube\")\\n\\nClases de licencia\\n\\nObtención por primera vez\\n\\nVigencia\\n\\nExamen teórico\\n\\nExamen práctico\\n\\nObtención de la licencia\\n\\nRenovación\\n\\nLicencia de conducir internacional\\n\\nRobo o extravío\\n\\nMás información sobre licencias de conducir\\n\\n- **[Profesionales (clase A)](https://www.chileatiende.gob.cl/fichas/24034)**:\\n  - **Clase A1**: para conducir taxis.\\n  - **Clase A2**: para conducir taxis, ambulancias o vehículos motorizados de transporte público y privado de personas con capacidad de 10 a 17 pasajeros, sin contar al conductor.\\n  - **Clase A3**: para taxis, vehículos de transporte remunerado de escolares, ambulancias o vehículos de transporte público y privado de personas, sin limitación de capacidad de asientos.\\n  - **Clase A4**: para transporte de carga cuyo peso bruto sea superior a 3.500 kilogramos.\\n  - **Clase A5**: para conducir vehículos de carga, simples o articulados, cuyo peso bruto sea superior a 3.500 kilogramos.\\n\\n- **No profesionales**:\\n\\n  - [**Clase B**](https://www.chileatiende.gob.cl/fichas/24065): para vehículos motorizados de tres o cuatro ruedas para transporte particular\\xa0(automóviles, camionetas, furgones, furgonetas, etcétera).\\n  - **[Clase C](https://mejoresconductores.conaset.cl/#/LicenciaClaseC) y [clase CR](https://mejoresconductores.conaset.cl/#/LicenciaClaseCR)**: para vehículos con motor fijo o agregado (motocicletas, motonetas).\\n\\n- **Especiales**:\\n\\n  - [**Clase D**](https://mejoresconductores.conaset.cl/#/LicenciaClaseD): para maquinaria automotriz: tractores, palas mecánicas y otros.\\n  - [**Clase E**](https://mejoresconductores.conaset.cl/#/LicenciaClaseE): vehículos de tracción animal.\\n  - **Clase F**: para conducir vehículos motorizados policiales, de Bomberos y de las Fuerzas Armadas.\\n\\n**Importante**: las licencias profesionales habilitan para conducir vehículos particulares clase B.\\n\\nLos requisitos generales son:\\n\\n- Certificado de educación básica.\\n- Cédula de identidad.\\n- 18 años de edad cumplidos (excepcionalmente, se puede optar con 17).\\n- Examen teórico-práctico.\\n- Examen médico psicotécnico y de la vista.\\n\\n**Importante**: revise los requisitos según [tipo de licencia](http://mejoresconductores.conaset.cl/).\\n\\n- Licencias no profesionales:\\xa0seis\\xa0años.\\n- Licencias profesionales: cuatro años.\\n- Licencias especiales: seis años.\\n\\nLos plazos pueden ser restringidos por causas especiales, como el uso de lentes y otros.\\n\\n**Importante**: revise en el campo “Descripción” la extensión de la vigencia de las licencias de conducir.\\n\\n- **Para conductores y conductoras, clase B y C**:\\n\\nQuienes obtienen por primera vez su **licencia de conducir clase B y C** deben rendir un **examen teórico**, cuyas preguntas y respuestas no son de conocimiento público.\\n\\nEl objetivo de esta medida es que las personas estudien y comprendan los elementos contenidos en la evaluación para las licencias de [clase B](https://mejoresconductores.conaset.cl/#/LicenciaClaseB), [clase C](https://mejoresconductores.conaset.cl/#/LicenciaClaseC) y [clase CR](https://mejoresconductores.conaset.cl/#/LicenciaClaseCR).\\n\\n- **Para conductores y conductoras profesionales, clase A**:\\n\\nEl examen teórico es **obligatorio** para los y las postulantes a licencia de conductor o conductora profesional. El test se debe rendir en un computador del municipio y el sistema de corrección está controlado por la Conaset.\\n\\n- **Para conductores clase B**:\\n\\nLa prueba tiene una **duración mínima de 25 minutos**, y clasifica los errores como **reprobatorios**, **graves** y **leves**. Por ejemplo, quien no se ponga el cinturón de seguridad al iniciar su examen quedará reprobado inmediatamente, por tratarse de un error reprobatorio.\\n\\n**Importante**: revise las [maniobras básicas para el examen práctico](https://www.youtube.com/watch?list=PLk1Ue6zDAgXIuETtN9gCP5vEU_FFIfNFx&v=GJUD7QE7gkY), y obtenga [más información](https://www.conaset.cl/programa/prepara-examen-conducir/preguntas-frecuentes-examen-teorico-practico/).\\n\\n- **Para conductores clase C**:\\n\\nDesde el **12 de diciembre de 2020 se implementó el examen práctico** para la obtención de esta licencia que habilita para conducir motocicletas.\\n\\nConsiste en un examen dividido en dos etapas de verificación de habilidades con el vehículo:\\n\\n1. Maniobras y comprobaciones en vehículo con motor apagado.\\n2. Maniobras en vehículo con motor encendido.\\n\\nEvaluación - Nuevo Examen Práctico Licencia Clase C - YouTube\\n\\nConaset, Comisión Nacional de Seguridad de Tránsito\\n\\n11.8K subscribers\\n\\n[Evaluación - Nuevo Examen Práctico Licencia Clase C](https://www.youtube.com/watch?v=aeuc2qAv3DQ)\\n\\nConaset, Comisión Nacional de Seguridad de Tránsito\\n\\nSearch\\n\\nInfo\\n\\nShopping\\n\\nTap to unmute\\n\\nIf playback doesn\\'t begin shortly, try restarting your device.\\n\\nFull screen is unavailable. [Learn More](https://support.google.com/youtube/answer/6276924)\\n\\nYou\\'re signed out\\n\\nVideos you watch may be added to the TV\\'s watch history and influence TV recommendations. To avoid this, cancel and sign in to YouTube on your computer.\\n\\nCancelConfirm\\n\\nShare\\n\\nInclude playlist\\n\\nAn error occurred while retrieving sharing information. Please try again later.\\n\\nWatch later\\n\\nShare\\n\\nCopy link\\n\\nWatch on\\n\\n0:00\\n\\n/ •Live\\n\\n•\\n\\n[Watch on YouTube](https://www.youtube.com/watch?v=aeuc2qAv3DQ \"Watch on YouTube\")\\n\\nRevise más información para la [licencia clase C](https://mejoresconductores.conaset.cl/#/LicenciaClaseC) y [clase CR](https://mejoresconductores.conaset.cl/#/LicenciaClaseCR).\\n\\nLa licencia de conducir se obtiene en la dirección de tránsito de las municipalidades facultadas para realizar el examen. Consulte [más información en el municipio que corresponda](http://datos.sinim.gov.cl/ficha_comunal.php).\\n\\n**Importante:** quienes se encuentren en el [Registro de Pasajeros Infractores (RPI)](https://www.chileatiende.gob.cl/fichas/62468) no podrán obtener una licencia de conducir\\n\\nDiríjase\\xa0a la dirección de tránsito de su municipalidad, y cumpla con los siguientes trámites:\\n\\n- Llevar la licencia anterior.\\n- Presentar su cédula de identidad.\\n- Rendir exámenes de reflejo y vista.\\n- Rendir examen teórico (si la licencia es profesional).\\n\\nPara manejar fuera del país debe obtener una [licencia de conducir internacional](https://www.chileatiende.gob.cl/fichas/4724) que, generalmente, tiene validez continental. En Argentina, Bolivia y España este documento\\xa0no es necesario, porque hay tratados que reconocen la licencia de origen.\\n\\nPuede [bloquearla gratuitamente en el Servicio de Registro Civil e Identificación (SRCeI)](https://www.chileatiende.gob.cl/fichas/3361). Para solicitar un duplicado debe ir a la dirección de tránsito y presentar los siguientes documentos:\\n\\n- Documento que acredite el bloqueo de la licencia ante el Servicio de Registro Civil e Identificación.\\n- Cédula de identidad.\\n- Pagar por el duplicado un derecho municipal. La [Ley de Rentas Municipales](http://www.leychile.cl/Navegar?idNorma=7054) faculta a los municipios a cobrar un derecho (valor) por el servicio que prestan. Los valores dependen de cada municipio, los cuales se actualizan en su ordenanza municipal el mes de octubre de cada año.\\n\\n[Revise las preguntas y respuesta frecuentes](https://mejoresconductores.conaset.cl/#/dudasSugerencias) sobre la obtención de licencias de conducir.\\n\\nInformación proporcionada por\\n[ChileAtiende](https://www.chileatiende.gob.cl/instituciones/ZZ001)\\n\\n**[Descarga una versión PDF de esta página](https://www.chileatiende.gob.cl/fichas/20592/1/pdf)**\\n\\n### ¿Necesitas Ayuda?\\n\\n#### Llámanos al 101\\n\\nLunes a jueves, de 8:00 a 20:00 hrs.\\n\\n\\nViernes, de 8:00 a 18:00 hrs.\\n\\n\\nPara hacer tu atención más expedita, indícanos este Código de trámite\\n\\n\\ncódigo de trámite\\n\\n20592\\n\\n### Los usuarios también visitaron\\n\\n[Publicado por Subsecretaría de Transportes](https://www.chileatiende.gob.cl/buscar?institution=AN001)\\n\\n#### [Licencia de conducir no profesional (clase B)](https://www.chileatiende.gob.cl/fichas/24065-licencia-de-conducir-no-profesional-clase-b)\\n\\nEs una autorización que te permite a partir de los 18 años conducir vehículos motorizados de tres o...\\n\\n[Publicado por ChileAtiende](https://www.chileatiende.gob.cl/buscar?institution=ZZ001)\\n\\n#### [Ley Emilia](https://www.chileatiende.gob.cl/fichas/37003-ley-emilia)\\n\\nLa Ley Emilia, es una normativa que modificó la Ley del Tránsito,\\xa0estableciendo sanciones más duras...\\n\\n?\\n\\n!\\n\\ni\\n\\n* * *\\n\\nOKCancel×\\n\\nUsabilla Feedback Button![](https://d6tizftlrpuof.cloudfront.net/themes/production/chileatiende-button-cb26d18c36866681296273d128c89763.png)',\n",
       " 'metadata': {'ogUrl': 'https://www.chileatiende.gob.cl/fichas/20592-licencias-de-conducir',\n",
       "  'twitter:title': 'Chileatiende - Licencias de conducir',\n",
       "  'title': 'Chileatiende - Licencias de conducir',\n",
       "  'ogImage': 'https://www.chileatiende.gob.cl/images/og_chatiende.png',\n",
       "  'og:description': 'Conoce y obtén tu licencia de conducir en Chile. Para cada una (clase A, B y C) debes realizar un examen teórico y práctico.',\n",
       "  'twitter:description': 'Conoce y obtén tu licencia de conducir en Chile. Para cada una (clase A, B y C) debes realizar un examen teórico y práctico.',\n",
       "  'twitter:creator': 'ChileAtiende',\n",
       "  'og:type': 'website',\n",
       "  'og:url': 'https://www.chileatiende.gob.cl/fichas/20592-licencias-de-conducir',\n",
       "  'favicon': 'https://www.chileatiende.gob.cl/images/favicon.ico',\n",
       "  'ogTitle': 'Chileatiende - Licencias de conducir',\n",
       "  'viewport': ['width=device-width, initial-scale=1.0',\n",
       "   'width=device-width, initial-scale=1',\n",
       "   'width=device-width, initial-scale=1'],\n",
       "  'author': 'ChileAtiende',\n",
       "  'language': 'es',\n",
       "  'google-site-verification': 'kMPusrN9zyJRaaiS_PD0xT0VQT9hYYbYHQVWaIjGzQc',\n",
       "  'csrf-token': 'nFbQTrzJ02MMQLeQ5IwnnDkhQqUccKl85veN1eD3',\n",
       "  'cha-token': 'dd21a5b06f043e4e63feb3ffc803262e86d9a8e6182b64bddeebec4e1338701c',\n",
       "  'keywords': 'licencia de conducir, licencia, conducir, Examen de conducir, Examén teórico, examen práctico, nuevo examen de conducir, carnet de conducir, permiso de conducir, licencia conducir b, licencia conducir a, licencia conducir c, licencia de conducir para motos, licencia clase a, licencia clase b, licencia clase c, requisitos licencia de conducir Chile, examen licencia clase a, examen licencia clase B, licencia licencia clase C, requisitos licencia clase c, requisitos licencia clase b, nuevo libro del conductor, requisitos licencia de conducir, licencia de conducir chile, licencia de conductor, certificado para conducir, licencia para manejar coche, permiso para manejar coche, documento para manejar coche, permiso para manejar camiones, tipos de licencia de conducir, qué licencia debo tener para manejar moto, tipos de licencia de conducir chile',\n",
       "  'fb:app_id': '366610517235397',\n",
       "  'og:title': 'Chileatiende - Licencias de conducir',\n",
       "  'ogDescription': 'Conoce y obtén tu licencia de conducir en Chile. Para cada una (clase A, B y C) debes realizar un examen teórico y práctico.',\n",
       "  'description': 'Conoce y obtén tu licencia de conducir en Chile. Para cada una (clase A, B y C) debes realizar un examen teórico y práctico.',\n",
       "  'og:image': 'https://www.chileatiende.gob.cl/images/og_chatiende.png',\n",
       "  'scrapeId': '5c0c5e55-9460-438f-998a-10e9d5544f3f',\n",
       "  'sourceURL': 'https://www.chileatiende.gob.cl/fichas/20592-licencias-de-conducir',\n",
       "  'url': 'https://www.chileatiende.gob.cl/fichas/20592-licencias-de-conducir',\n",
       "  'statusCode': 200},\n",
       " 'links': ['https://www.chileatiende.gob.cl/',\n",
       "  'https://www.chileatiende.gob.cl/instituciones/ZZ001',\n",
       "  'https://www.chileatiende.gob.cl/fichas/24065-licencia-de-conducir-no-profesional-clase-b',\n",
       "  'https://mejoresconductores.conaset.cl/#/LicenciaClaseC',\n",
       "  'https://mejoresconductores.conaset.cl/#/LicenciaClaseCR',\n",
       "  'http://mejoresconductores.conaset.cl/',\n",
       "  'https://www.chileatiende.gob.cl/fichas/62468',\n",
       "  'https://www.youtube.com/watch?v=CplwgrIjD3o',\n",
       "  'https://www.youtube.com/embed/CplwgrIjD3o?enablejsapi=1&origin=https%3A%2F%2Fwww.chileatiende.gob.cl',\n",
       "  'https://support.google.com/youtube/answer/6276924',\n",
       "  'https://www.chileatiende.gob.cl/fichas/24034',\n",
       "  'https://www.chileatiende.gob.cl/fichas/24065',\n",
       "  'https://mejoresconductores.conaset.cl/#/LicenciaClaseD',\n",
       "  'https://mejoresconductores.conaset.cl/#/LicenciaClaseE',\n",
       "  'https://mejoresconductores.conaset.cl/#/LicenciaClaseB',\n",
       "  'https://www.youtube.com/watch?list=PLk1Ue6zDAgXIuETtN9gCP5vEU_FFIfNFx&v=GJUD7QE7gkY',\n",
       "  'https://www.conaset.cl/programa/prepara-examen-conducir/preguntas-frecuentes-examen-teorico-practico/',\n",
       "  'https://www.youtube.com/watch?v=aeuc2qAv3DQ',\n",
       "  'https://www.youtube.com/embed/aeuc2qAv3DQ?enablejsapi=1&origin=https%3A%2F%2Fwww.chileatiende.gob.cl',\n",
       "  'http://datos.sinim.gov.cl/ficha_comunal.php',\n",
       "  'https://www.chileatiende.gob.cl/fichas/4724',\n",
       "  'https://www.chileatiende.gob.cl/fichas/3361',\n",
       "  'http://www.leychile.cl/Navegar?idNorma=7054',\n",
       "  'https://mejoresconductores.conaset.cl/#/dudasSugerencias',\n",
       "  'https://www.chileatiende.gob.cl/fichas/20592/1/pdf',\n",
       "  'https://www.chileatiende.gob.cl/buscar?institution=AN001',\n",
       "  'https://www.chileatiende.gob.cl/buscar?institution=ZZ001',\n",
       "  'https://www.chileatiende.gob.cl/fichas/37003-ley-emilia']}"
      ]
     },
     "execution_count": 15,
     "metadata": {},
     "output_type": "execute_result"
    }
   ],
   "source": [
    "from agno.tools.firecrawl import FirecrawlTools"
   ]
  }
 ],
 "metadata": {
  "kernelspec": {
   "display_name": "Python 3",
   "language": "python",
   "name": "python3"
  },
  "language_info": {
   "codemirror_mode": {
    "name": "ipython",
    "version": 3
   },
   "file_extension": ".py",
   "mimetype": "text/x-python",
   "name": "python",
   "nbconvert_exporter": "python",
   "pygments_lexer": "ipython3",
   "version": "3.11.12"
  }
 },
 "nbformat": 4,
 "nbformat_minor": 5
}
